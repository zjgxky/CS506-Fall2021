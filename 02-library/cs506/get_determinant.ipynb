{
 "cells": [
  {
   "cell_type": "code",
   "execution_count": 10,
   "id": "638e855b",
   "metadata": {},
   "outputs": [],
   "source": [
    "def copy_matrix(A):\n",
    "    col_num = len(A)\n",
    "    line_num = len(A[0])\n",
    "    A_copy = []\n",
    "    for i in A:\n",
    "        col = []\n",
    "        for j in i:\n",
    "            col.append(j)\n",
    "        A_copy.append(col)\n",
    "    return A_copy\n",
    "\n",
    "def get_determinant(A):\n",
    "    \"\"\"\n",
    "    Find determinant of a square matrix using full recursion\n",
    "        :param A: the matrix to find the determinant for\n",
    "        :param total=0: safely establish a total at each recursion level\n",
    "        :returns: the running total for the levels of recursion\n",
    "    \"\"\"\n",
    "    \n",
    "    indices = list(range(len(A)))\n",
    "    print(indices)\n",
    "    \n",
    "\n",
    "    if len(A) == 2 and len(A[0]) == 2:\n",
    "        val = A[0][0] * A[1][1] - A[1][0] * A[0][1]\n",
    "        return val\n",
    "    \n",
    "    total = 0\n",
    "\n",
    "    \n",
    "    for index in range(len(A)):  \n",
    "        A_copy = copy_matrix(A)  \n",
    "        A_copy = A_copy[1:]  \n",
    "        height = len(A_copy)\n",
    "\n",
    "        for i in range(height):  \n",
    "            A_copy[i] = A_copy[i][0:index] + A_copy[i][index+1:]  \n",
    "\n",
    "        sign = (-1) ** (index % 2)  \n",
    "        sub_deter = get_determinant(A_copy)  #\n",
    "        total += sign * A[0][index] * sub_deter  \n",
    "\n",
    "    return total    "
   ]
  },
  {
   "cell_type": "code",
   "execution_count": 14,
   "id": "c3d22c77",
   "metadata": {},
   "outputs": [
    {
     "name": "stdout",
     "output_type": "stream",
     "text": [
      "[0, 1, 2]\n",
      "[0, 1]\n",
      "[0, 1]\n",
      "[0, 1]\n",
      "49\n",
      "[0, 1]\n",
      "-28\n"
     ]
    }
   ],
   "source": [
    "A = [[1,5,1],[2,6,7],[2,1,1]]\n",
    "B = [[1,5],[6,2]]\n",
    "print(get_determinant(A))\n",
    "print(get_determinant(B))"
   ]
  }
 ],
 "metadata": {
  "kernelspec": {
   "display_name": "Python 3",
   "language": "python",
   "name": "python3"
  },
  "language_info": {
   "codemirror_mode": {
    "name": "ipython",
    "version": 3
   },
   "file_extension": ".py",
   "mimetype": "text/x-python",
   "name": "python",
   "nbconvert_exporter": "python",
   "pygments_lexer": "ipython3",
   "version": "3.8.8"
  }
 },
 "nbformat": 4,
 "nbformat_minor": 5
}
